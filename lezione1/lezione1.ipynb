{
 "cells": [
  {
   "cell_type": "code",
   "execution_count": null,
   "id": "60380eeb-740f-49fb-80c3-5725f92cb64c",
   "metadata": {},
   "outputs": [],
   "source": [
    "ue"
   ]
  }
 ],
 "metadata": {
  "kernelspec": {
   "display_name": "",
   "name": ""
  },
  "language_info": {
   "name": ""
  }
 },
 "nbformat": 4,
 "nbformat_minor": 5
}
